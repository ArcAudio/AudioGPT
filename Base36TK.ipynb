{
  "cells": [
    {
      "cell_type": "code",
      "execution_count": null,
      "metadata": {
        "id": "ppfOExeJSepR"
      },
      "outputs": [],
      "source": [
        "!pip install base36\n",
        "!pip install encodec"
      ]
    },
    {
      "cell_type": "code",
      "execution_count": null,
      "metadata": {
        "colab": {
          "base_uri": "https://localhost:8080/"
        },
        "id": "14eTVNyi2Z3-",
        "outputId": "ea7cfe74-b50e-465d-b065-3e4dc0cf5eea"
      },
      "outputs": [
        {
          "name": "stdout",
          "output_type": "stream",
          "text": [
            "Drive already mounted at /content/drive; to attempt to forcibly remount, call drive.mount(\"/content/drive\", force_remount=True).\n"
          ]
        }
      ],
      "source": [
        "from google.colab import drive\n",
        "drive.mount('/content/drive')"
      ]
    },
    {
      "cell_type": "code",
      "execution_count": null,
      "metadata": {
        "id": "_fMxsWYqeSAY"
      },
      "outputs": [],
      "source": [
        "import base36\n",
        "from encodec import EncodecModel\n",
        "from encodec.utils import convert_audio\n",
        "from PIL import Image\n",
        "import numpy as np\n",
        "import torchaudio\n",
        "import torch\n",
        "from IPython.display import Audio\n",
        "import torchvision.transforms as transforms  \n",
        "import matplotlib.pyplot as plt\n",
        "from scipy.io import wavfile\n",
        "from pathlib import Path\n",
        "import os\n"
      ]
    },
    {
      "cell_type": "code",
      "execution_count": null,
      "metadata": {
        "id": "E5Q6PvslSKu_"
      },
      "outputs": [],
      "source": [
        "path = \"/content/drive/MyDrive/techno/04 - Mouldy Soul - We Control This (v1).wav\""
      ]
    },
    {
      "cell_type": "code",
      "execution_count": null,
      "metadata": {
        "id": "ubF63CpeeE45"
      },
      "outputs": [],
      "source": [
        "# Instantiate a pretrained EnCodec model\n",
        "model = EncodecModel.encodec_model_24khz()\n",
        "model.set_target_bandwidth(3.0)\n",
        "\n",
        "# Load and pre-process the audio waveform\n",
        "wav, sr = torchaudio.load(path)\n",
        "nwav = wav[0][:].unsqueeze(0) #only doing small amount of wav for testing\n",
        "\n",
        "wav = convert_audio(nwav, sr, model.sample_rate, model.channels)\n",
        "wav = wav.unsqueeze(0)\n",
        "\n",
        "# Extract discrete codes from EnCodec\n",
        "with torch.no_grad():\n",
        "    encoded_frames = model.encode(wav)\n",
        "codes = torch.cat([encoded[0] for encoded in encoded_frames], dim=-1)  # [B, n_q, T]"
      ]
    },
    {
      "cell_type": "code",
      "execution_count": null,
      "metadata": {
        "colab": {
          "base_uri": "https://localhost:8080/"
        },
        "id": "N7xPgt8reOBf",
        "outputId": "e77cef0d-d118-41a5-e8a8-7f2fb5ad458b"
      },
      "outputs": [
        {
          "data": {
            "text/plain": [
              "torch.Size([1, 4, 27429])"
            ]
          },
          "execution_count": 429,
          "metadata": {},
          "output_type": "execute_result"
        }
      ],
      "source": [
        "codes.shape"
      ]
    },
    {
      "cell_type": "code",
      "execution_count": null,
      "metadata": {
        "id": "4lAqVQ98eWFS"
      },
      "outputs": [],
      "source": [
        "cs = codes.squeeze()"
      ]
    },
    {
      "cell_type": "code",
      "execution_count": null,
      "metadata": {
        "colab": {
          "base_uri": "https://localhost:8080/"
        },
        "id": "4w2670re1mm7",
        "outputId": "4fea9b57-f8fd-4fd4-8649-9401185b3d9e"
      },
      "outputs": [
        {
          "data": {
            "text/plain": [
              "torch.Size([4, 437])"
            ]
          },
          "execution_count": 398,
          "metadata": {},
          "output_type": "execute_result"
        }
      ],
      "source": [
        "cs.shape"
      ]
    },
    {
      "cell_type": "markdown",
      "metadata": {
        "id": "u8Z5bFw_0izq"
      },
      "source": [
        "#Do the stuff:"
      ]
    },
    {
      "cell_type": "code",
      "execution_count": null,
      "metadata": {
        "id": "iUsNOolkUGz7"
      },
      "outputs": [],
      "source": [
        "# tns = torch.from_numpy(nr)"
      ]
    },
    {
      "cell_type": "code",
      "execution_count": null,
      "metadata": {
        "id": "8NpWCpViURqa"
      },
      "outputs": [],
      "source": [
        "# cs = tns"
      ]
    },
    {
      "cell_type": "code",
      "execution_count": null,
      "metadata": {
        "id": "HZLyv0w726Om"
      },
      "outputs": [],
      "source": [
        "csr = cs.T"
      ]
    },
    {
      "cell_type": "code",
      "execution_count": null,
      "metadata": {
        "colab": {
          "base_uri": "https://localhost:8080/"
        },
        "id": "8yVNmht4vq_7",
        "outputId": "b31c3e97-f31e-4fd1-f292-3164a3aedfc5"
      },
      "outputs": [
        {
          "name": "stdout",
          "output_type": "stream",
          "text": [
            "torch.Size([1238954, 4])\n"
          ]
        }
      ],
      "source": [
        "print(csr.shape)"
      ]
    },
    {
      "cell_type": "code",
      "execution_count": null,
      "metadata": {
        "colab": {
          "background_save": true
        },
        "id": "db5mBid2hr82"
      },
      "outputs": [],
      "source": [
        "# working encode\n",
        "hexarr = [] # don't do this for large tensors, pre allocate memory, I think is a better way, all hacky, thinking out loud work\n",
        "a = ''\n",
        "for i,x in enumerate(csr):\n",
        "  print(i)\n",
        "  for y in x:\n",
        "    nb = base36.dumps(int(y))\n",
        "    if (y < 36):\n",
        "      n = '-' + nb # pad because below 36 gives one char representation\n",
        "      a = a + n\n",
        "    else:\n",
        "      a = a + nb\n",
        "  hexarr = np.append(hexarr,a)\n",
        "  a = ''\n",
        "  "
      ]
    },
    {
      "cell_type": "code",
      "execution_count": null,
      "metadata": {
        "colab": {
          "base_uri": "https://localhost:8080/"
        },
        "id": "2NrcydD8l8kt",
        "outputId": "02882fa8-a2ad-4074-e2a8-e50a9cff856f"
      },
      "outputs": [
        {
          "data": {
            "text/plain": [
              "362825"
            ]
          },
          "execution_count": 454,
          "metadata": {},
          "output_type": "execute_result"
        }
      ],
      "source": [
        "hexarr.size"
      ]
    },
    {
      "cell_type": "code",
      "execution_count": null,
      "metadata": {
        "id": "nNfuwoaYw2zI"
      },
      "outputs": [],
      "source": [
        "# hexarr"
      ]
    },
    {
      "cell_type": "code",
      "execution_count": null,
      "metadata": {
        "id": "LB4ZZl2w8cZd"
      },
      "outputs": [],
      "source": [
        "np.savetxt('/content/drive/MyDrive/AI/amen-hexfile.txt', hexarr.tolist(), fmt='%s')"
      ]
    },
    {
      "cell_type": "code",
      "execution_count": null,
      "metadata": {
        "id": "twT4pG5H84DF"
      },
      "outputs": [],
      "source": [
        "npt = (np.loadtxt(\"/content/drive/MyDrive/AI/amen-hexfile.txt\", dtype=str))"
      ]
    },
    {
      "cell_type": "code",
      "execution_count": null,
      "metadata": {
        "id": "Ygi4Ky0D9Lu_"
      },
      "outputs": [],
      "source": [
        "npt"
      ]
    },
    {
      "cell_type": "code",
      "execution_count": null,
      "metadata": {
        "id": "NFkW4dje9ot1"
      },
      "outputs": [],
      "source": [
        "loaded_hexarr = npt"
      ]
    },
    {
      "cell_type": "code",
      "execution_count": null,
      "metadata": {
        "id": "r8tUAwYvte-C"
      },
      "outputs": [],
      "source": [
        "# loaded_hexarr??"
      ]
    },
    {
      "cell_type": "code",
      "execution_count": null,
      "metadata": {
        "colab": {
          "base_uri": "https://localhost:8080/"
        },
        "id": "CYNs5oM5sDgK",
        "outputId": "8e750db5-6787-4e69-8415-3c423e2e4a50"
      },
      "outputs": [
        {
          "data": {
            "text/plain": [
              "(dtype('<U8'), (437,))"
            ]
          },
          "execution_count": 425,
          "metadata": {},
          "output_type": "execute_result"
        }
      ],
      "source": [
        "# npt.dtype, loaded_hexarr.shape"
      ]
    },
    {
      "cell_type": "code",
      "execution_count": null,
      "metadata": {
        "id": "P3zO4rzim8FK"
      },
      "outputs": [],
      "source": [
        "dcarr = []\n",
        "st = ''\n",
        "for x in loaded_hexarr:\n",
        "  for i, y in enumerate(x):\n",
        "    m = i % 2 \n",
        "    if (m == 0):\n",
        "      st = st + y\n",
        "    elif (m == 1):\n",
        "      st = st + y\n",
        "      nb = base36.loads(st)\n",
        "      ni = int(nb)\n",
        "      if (ni < 0):\n",
        "        spl = st.split(\"-\")[1]\n",
        "        nb = base36.loads(spl)\n",
        "      dcarr = np.append(dcarr, nb)\n",
        "      # print(nb)\n",
        "      st = ''"
      ]
    },
    {
      "cell_type": "code",
      "execution_count": null,
      "metadata": {
        "colab": {
          "base_uri": "https://localhost:8080/"
        },
        "id": "rnUOp_3Cy9G4",
        "outputId": "bac7a1b8-d148-4150-8cac-54d74a75a407"
      },
      "outputs": [
        {
          "data": {
            "text/plain": [
              "(1748,)"
            ]
          },
          "execution_count": 408,
          "metadata": {},
          "output_type": "execute_result"
        }
      ],
      "source": [
        "dcarr.shape"
      ]
    },
    {
      "cell_type": "code",
      "execution_count": null,
      "metadata": {
        "id": "wscM2ZtK0EV9"
      },
      "outputs": [],
      "source": [
        "ts = torch.from_numpy(dcarr.astype(np.int64))"
      ]
    },
    {
      "cell_type": "code",
      "execution_count": null,
      "metadata": {
        "id": "5lsgFoKV0JlH"
      },
      "outputs": [],
      "source": [
        "tsr = ts.reshape(437,4) # could be the known shape or len over 4 (or num quantisers)"
      ]
    },
    {
      "cell_type": "code",
      "execution_count": null,
      "metadata": {
        "colab": {
          "base_uri": "https://localhost:8080/"
        },
        "id": "I1CNsCJn2B3Z",
        "outputId": "e5151637-c32d-45f7-e038-e7ef24de0a6f"
      },
      "outputs": [
        {
          "data": {
            "text/plain": [
              "torch.Size([4, 437])"
            ]
          },
          "execution_count": 412,
          "metadata": {},
          "output_type": "execute_result"
        }
      ],
      "source": [
        "cs.shape"
      ]
    },
    {
      "cell_type": "code",
      "execution_count": null,
      "metadata": {
        "id": "-LogG-VN92Cu"
      },
      "outputs": [],
      "source": [
        "np.savetxt('/content/drive/MyDrive/AI/amenraw.txt', cs)"
      ]
    },
    {
      "cell_type": "markdown",
      "metadata": {
        "id": "XX3FEsFgTNZT"
      },
      "source": [
        "Save codes in text file to compare file size saving"
      ]
    },
    {
      "cell_type": "code",
      "execution_count": null,
      "metadata": {
        "colab": {
          "base_uri": "https://localhost:8080/"
        },
        "id": "ynxOknuqnST8",
        "outputId": "469ae544-a5c2-41f3-d8a8-12364f4b5ee2"
      },
      "outputs": [
        {
          "data": {
            "text/plain": [
              "tensor([[  44,  610,  992,  ..., 1022, 1019,  408],\n",
              "        [  90,  440,  699,  ...,  456,  648,  841],\n",
              "        [ 302,  557, 1014,  ...,  958,  971, 1007],\n",
              "        [ 978,  284,  149,  ...,  841,  940,  762]])"
            ]
          },
          "execution_count": 414,
          "metadata": {},
          "output_type": "execute_result"
        }
      ],
      "source": [
        "cs"
      ]
    },
    {
      "cell_type": "code",
      "execution_count": null,
      "metadata": {
        "id": "sePx3j9xyZsV"
      },
      "outputs": [],
      "source": [
        "rst = tsr.T"
      ]
    },
    {
      "cell_type": "code",
      "execution_count": null,
      "metadata": {
        "colab": {
          "base_uri": "https://localhost:8080/"
        },
        "id": "hSscRs9k0buP",
        "outputId": "b61bddae-a130-4ff1-dc07-49835118a9b9"
      },
      "outputs": [
        {
          "data": {
            "text/plain": [
              "tensor([[  44,  610,  992,  ..., 1022, 1019,  408],\n",
              "        [  90,  440,  699,  ...,  456,  648,  841],\n",
              "        [ 302,  557, 1014,  ...,  958,  971, 1007],\n",
              "        [ 978,  284,  149,  ...,  841,  940,  762]])"
            ]
          },
          "execution_count": 416,
          "metadata": {},
          "output_type": "execute_result"
        }
      ],
      "source": [
        "rst"
      ]
    },
    {
      "cell_type": "markdown",
      "metadata": {
        "id": "_K4k7xexeX4s"
      },
      "source": [
        "# test whether the tensors are the same"
      ]
    },
    {
      "cell_type": "code",
      "execution_count": null,
      "metadata": {
        "colab": {
          "base_uri": "https://localhost:8080/"
        },
        "id": "EEMQqGuPTcLM",
        "outputId": "64b1dd97-9492-4e7f-9242-e4b757cf02b8"
      },
      "outputs": [
        {
          "data": {
            "text/plain": [
              "True"
            ]
          },
          "execution_count": 417,
          "metadata": {},
          "output_type": "execute_result"
        }
      ],
      "source": [
        "torch.equal(cs,rst)"
      ]
    },
    {
      "cell_type": "code",
      "execution_count": null,
      "metadata": {
        "colab": {
          "base_uri": "https://localhost:8080/"
        },
        "id": "PGC-BHoiV0ck",
        "outputId": "e68a2941-7580-468a-e208-2aefc9696ea3"
      },
      "outputs": [
        {
          "name": "stdout",
          "output_type": "stream",
          "text": [
            "43700 3933\n"
          ]
        }
      ],
      "source": [
        "fa = Path('/content/drive/MyDrive/AI/amenraw.txt').stat().st_size\n",
        "\n",
        "fb = Path('/content/drive/MyDrive/AI/amen-hexfile.txt').stat().st_size\n",
        "\n",
        "print(fa,fb)"
      ]
    },
    {
      "cell_type": "code",
      "execution_count": null,
      "metadata": {
        "colab": {
          "base_uri": "https://localhost:8080/"
        },
        "id": "9iI1GMYlWTvn",
        "outputId": "77756ff7-b8c1-486b-c48c-69555bb6bf7e"
      },
      "outputs": [
        {
          "name": "stdout",
          "output_type": "stream",
          "text": [
            "Compression Ratio: 11.11111111111111\n"
          ]
        }
      ],
      "source": [
        "def calc_ratio(num1, num2):\n",
        "    num1 = int(num1) # Now we are good\n",
        "    num2 = int(num2) # Good, good\n",
        "    ratio = (num1/num2) \n",
        "    return ratio\n",
        "\n",
        "print (\"Compression Ratio:\",calc_ratio(fa, fb))"
      ]
    },
    {
      "cell_type": "code",
      "execution_count": null,
      "metadata": {
        "id": "OPq4NvJkWw38"
      },
      "outputs": [],
      "source": [
        "def percentage(part, whole):\n",
        "  Percentage = (part)/(whole) * 100.\n",
        "  return str(100-Percentage) + '%'"
      ]
    },
    {
      "cell_type": "code",
      "execution_count": null,
      "metadata": {
        "colab": {
          "base_uri": "https://localhost:8080/"
        },
        "id": "ccf_RcNuXMCH",
        "outputId": "b5f3d4f0-d290-45f1-854a-99a829b1ff0a"
      },
      "outputs": [
        {
          "name": "stdout",
          "output_type": "stream",
          "text": [
            "Space saved: 91.0%\n"
          ]
        }
      ],
      "source": [
        "print(\"Space saved:\", percentage(fb,fa))"
      ]
    },
    {
      "cell_type": "code",
      "execution_count": null,
      "metadata": {
        "id": "ngkdUYBlKkRu"
      },
      "outputs": [],
      "source": [
        "npt = (np.loadtxt(\"/content/drive/MyDrive/AI/technofiles.txt\"))"
      ]
    },
    {
      "cell_type": "code",
      "execution_count": null,
      "metadata": {
        "colab": {
          "base_uri": "https://localhost:8080/"
        },
        "id": "-Y7BoWZEKlFv",
        "outputId": "502ba480-34dd-4607-d134-13d6c236f30e"
      },
      "outputs": [
        {
          "data": {
            "text/plain": [
              "4955816"
            ]
          },
          "execution_count": 440,
          "metadata": {},
          "output_type": "execute_result"
        }
      ],
      "source": [
        "npt.size"
      ]
    },
    {
      "cell_type": "code",
      "execution_count": null,
      "metadata": {
        "id": "rHFZ8sLoKnSY"
      },
      "outputs": [],
      "source": [
        "nr = npt.reshape(4, 1238954)"
      ]
    },
    {
      "cell_type": "code",
      "execution_count": null,
      "metadata": {
        "colab": {
          "base_uri": "https://localhost:8080/"
        },
        "id": "5WoUrm0LT5ml",
        "outputId": "4b931aaf-7459-45e7-fd25-21180b9a047d"
      },
      "outputs": [
        {
          "data": {
            "text/plain": [
              "(4, 1238954)"
            ]
          },
          "execution_count": 442,
          "metadata": {},
          "output_type": "execute_result"
        }
      ],
      "source": [
        "nr.shape"
      ]
    },
    {
      "cell_type": "code",
      "execution_count": null,
      "metadata": {
        "id": "ecY9EvylT7Ck"
      },
      "outputs": [],
      "source": []
    }
  ],
  "metadata": {
    "colab": {
      "machine_shape": "hm",
      "provenance": []
    },
    "gpuClass": "standard",
    "kernelspec": {
      "display_name": "Python 3",
      "name": "python3"
    },
    "language_info": {
      "name": "python"
    }
  },
  "nbformat": 4,
  "nbformat_minor": 0
}